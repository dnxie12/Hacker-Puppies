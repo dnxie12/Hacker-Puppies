{
 "cells": [
  {
   "cell_type": "markdown",
   "metadata": {},
   "source": [
    "# Testing Our Dog Breed Classifier Model\n",
    "\n",
    "After training our model, we exported the calculated weights so we can test individual samples from our test data."
   ]
  },
  {
   "cell_type": "code",
   "execution_count": 76,
   "metadata": {},
   "outputs": [],
   "source": [
    "#import necessary libraries and load model\n",
    "\n",
    "import pandas as pd\n",
    "import numpy as np\n",
    "import matplotlib.pyplot as plt\n",
    "from tqdm import tqdm\n",
    "from keras.preprocessing import image\n",
    "from keras.applications.inception_resnet_v2 import preprocess_input, decode_predictions\n",
    "from keras.models import load_model\n",
    "import pickle\n",
    "\n",
    "model = load_model('model.h5')"
   ]
  },
  {
   "cell_type": "code",
   "execution_count": 77,
   "metadata": {},
   "outputs": [],
   "source": [
    "#reads csv file of test data\n",
    "breeds = pd.read_csv(\"sample_submission.csv\")"
   ]
  },
  {
   "cell_type": "code",
   "execution_count": 78,
   "metadata": {},
   "outputs": [
    {
     "name": "stderr",
     "output_type": "stream",
     "text": [
      "/Users/rosiezhao/anaconda3/lib/python3.6/site-packages/sklearn/base.py:311: UserWarning: Trying to unpickle estimator LabelBinarizer from version 0.20.2 when using version 0.19.1. This might lead to breaking code or invalid results. Use at your own risk.\n",
      "  UserWarning)\n"
     ]
    },
    {
     "data": {
      "text/plain": [
       "array([[6.3997307e-03, 2.2481681e-05, 4.0390398e-04, 3.9252932e-03,\n",
       "        2.3345234e-05, 5.4518582e-06, 6.6089588e-06, 4.5420653e-05,\n",
       "        6.7681668e-07, 3.6078960e-05, 1.2844764e-02, 5.6034194e-05,\n",
       "        6.7917674e-05, 1.5080577e-02, 2.3689518e-05, 1.9596251e-04,\n",
       "        1.3825994e-06, 1.7014043e-04, 1.1829729e-03, 1.0771866e-04,\n",
       "        2.0882525e-03, 1.1861003e-03, 9.7731339e-05, 3.1784037e-04,\n",
       "        1.2186164e-04, 5.4826260e-06, 8.4183495e-07, 2.8686089e-05,\n",
       "        7.5239664e-06, 1.3377005e-04, 2.8694692e-06, 3.5884055e-05,\n",
       "        2.4808414e-04, 2.2387605e-04, 3.0471861e-05, 4.5261886e-02,\n",
       "        1.4379573e-04, 3.0054334e-05, 2.5653039e-06, 1.8687341e-02,\n",
       "        7.7172299e-06, 7.0695955e-06, 3.5735498e-05, 4.4107361e-04,\n",
       "        1.2015727e-06, 1.6415433e-04, 8.4115200e-05, 8.1005896e-07,\n",
       "        6.0586604e-05, 1.7146553e-05, 2.4021465e-04, 5.8260816e-06,\n",
       "        1.6230143e-07, 9.5358155e-06, 8.7662721e-07, 7.5874879e-05,\n",
       "        6.6003522e-05, 5.0035343e-03, 5.9002604e-02, 7.8999932e-05,\n",
       "        1.3122624e-06, 1.0572583e-02, 9.8710334e-06, 5.4642283e-07,\n",
       "        3.7475418e-02, 1.8647054e-04, 2.6972793e-04, 1.0530873e-07,\n",
       "        1.0828017e-02, 4.9174705e-05, 1.2105003e-04, 3.0879505e-04,\n",
       "        4.0803709e-05, 8.5395921e-05, 2.0912590e-03, 6.4361450e-07,\n",
       "        9.0649650e-03, 3.8273167e-05, 3.7201817e-06, 4.9312024e-05,\n",
       "        2.9703029e-05, 1.8005046e-03, 2.6512085e-04, 4.4407097e-01,\n",
       "        4.5397013e-04, 1.2050033e-05, 1.6917626e-07, 1.0413135e-04,\n",
       "        5.9258937e-06, 6.4649439e-06, 2.0535854e-05, 7.0695376e-07,\n",
       "        1.3863591e-05, 1.4289939e-05, 1.1413160e-05, 1.5310863e-07,\n",
       "        9.5005871e-06, 9.6996962e-05, 2.1638647e-03, 1.7330382e-04,\n",
       "        2.8935942e-04, 1.4064445e-04, 6.6083448e-05, 1.8807092e-04,\n",
       "        6.8165000e-06, 2.1867773e-02, 3.7197561e-03, 2.3664343e-05,\n",
       "        1.8172585e-03, 1.4851188e-04, 1.0213488e-02, 1.6098759e-04,\n",
       "        6.9399778e-07, 2.5824214e-05, 3.0770817e-08, 8.5757296e-05,\n",
       "        2.7899114e-06, 3.6054730e-04, 2.6579466e-01, 7.7819153e-05]],\n",
       "      dtype=float32)"
      ]
     },
     "execution_count": 78,
     "metadata": {},
     "output_type": "execute_result"
    }
   ],
   "source": [
    "#loads one image; index between 0 and 10356\n",
    "img = breeds['id'][5]\n",
    "\n",
    "#preprocesses image - normalizes pixel values\n",
    "mage = image.load_img(\"test/\" + img + \".jpg\", target_size=(299, 299))\n",
    "data = image.img_to_array(mage)\n",
    "data = preprocess_input(np.expand_dims(mage, axis = 0))\n",
    "\n",
    "y_pred = model.predict(data)\n",
    "with open('encoder.pkl','rb') as f:\n",
    "    one_hot = pickle.load(f)\n",
    "    f.close()\n",
    "y_pred"
   ]
  },
  {
   "cell_type": "code",
   "execution_count": 79,
   "metadata": {},
   "outputs": [],
   "source": [
    "#returns predicted breed based on output from model\n",
    "def un_onehot(data):\n",
    "    breed = one_hot.inverse_transform(data)\n",
    "    return breed"
   ]
  },
  {
   "cell_type": "code",
   "execution_count": 80,
   "metadata": {},
   "outputs": [
    {
     "data": {
      "text/plain": [
       "'otterhound'"
      ]
     },
     "execution_count": 80,
     "metadata": {},
     "output_type": "execute_result"
    }
   ],
   "source": [
    "#extracts dog's actual breed\n",
    "breed_actual=np.argmax(y_pred)\n",
    "breed_actual\n",
    "breeds_1 = breeds.iloc[0]\n",
    "breeds_1.to_frame()\n",
    "breed_list = np.delete(breeds_1.index.values, 0)\n",
    "breed_list[breed_actual]"
   ]
  },
  {
   "cell_type": "code",
   "execution_count": 81,
   "metadata": {},
   "outputs": [
    {
     "data": {
      "text/plain": [
       "array(['otterhound'], dtype='<U30')"
      ]
     },
     "execution_count": 81,
     "metadata": {},
     "output_type": "execute_result"
    }
   ],
   "source": [
    "#calculates predicted breed\n",
    "breed_pred = un_onehot(y_pred)\n",
    "breed_pred"
   ]
  }
 ],
 "metadata": {
  "kernelspec": {
   "display_name": "Python 3",
   "language": "python",
   "name": "python3"
  },
  "language_info": {
   "codemirror_mode": {
    "name": "ipython",
    "version": 3
   },
   "file_extension": ".py",
   "mimetype": "text/x-python",
   "name": "python",
   "nbconvert_exporter": "python",
   "pygments_lexer": "ipython3",
   "version": "3.6.5"
  }
 },
 "nbformat": 4,
 "nbformat_minor": 2
}
