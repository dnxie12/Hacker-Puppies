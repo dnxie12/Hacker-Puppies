{
  "nbformat": 4,
  "nbformat_minor": 0,
  "metadata": {
    "colab": {
      "name": "Untitled.ipynb",
      "version": "0.3.2",
      "provenance": []
    },
    "kernelspec": {
      "name": "python3",
      "display_name": "Python 3"
    },
    "accelerator": "GPU"
  },
  "cells": [
    {
      "metadata": {
        "id": "XPUit7o2AEi0",
        "colab_type": "code",
        "colab": {}
      },
      "cell_type": "code",
      "source": [
        "import pandas as pd\n",
        "import numpy as np\n",
        "import matplotlib.pyplot as plt\n",
        "from tqdm import tqdm"
      ],
      "execution_count": 0,
      "outputs": []
    },
    {
      "metadata": {
        "id": "CevKPcD8AEjC",
        "colab_type": "text"
      },
      "cell_type": "markdown",
      "source": [
        "Importing the dataset given by the Dog Breed Identification "
      ]
    },
    {
      "metadata": {
        "id": "_Va-RTHpAEjF",
        "colab_type": "code",
        "colab": {}
      },
      "cell_type": "code",
      "source": [
        "breeds = pd.read_csv(\"labels.csv\")"
      ],
      "execution_count": 0,
      "outputs": []
    },
    {
      "metadata": {
        "id": "SOxnvKdOAEjO",
        "colab_type": "code",
        "colab": {}
      },
      "cell_type": "code",
      "source": [
        "from sklearn.model_selection import train_test_split\n",
        "from sklearn.preprocessing import LabelBinarizer"
      ],
      "execution_count": 0,
      "outputs": []
    },
    {
      "metadata": {
        "id": "0_Tn2ZyoAEjW",
        "colab_type": "text"
      },
      "cell_type": "markdown",
      "source": [
        "One-hot encoding for strings"
      ]
    },
    {
      "metadata": {
        "id": "KBIwYSuFAEjb",
        "colab_type": "code",
        "colab": {}
      },
      "cell_type": "code",
      "source": [
        "encoder = LabelBinarizer()\n",
        "one_hot = encoder.fit_transform(breeds['breed'])\n",
        "one_hot.shape"
      ],
      "execution_count": 0,
      "outputs": []
    },
    {
      "metadata": {
        "id": "eM0tBISdAEjk",
        "colab_type": "code",
        "colab": {}
      },
      "cell_type": "code",
      "source": [
        "y_train = np.asarray(one_hot)"
      ],
      "execution_count": 0,
      "outputs": []
    },
    {
      "metadata": {
        "id": "V8XomAjdAEkk",
        "colab_type": "code",
        "colab": {}
      },
      "cell_type": "code",
      "source": [
        "labels = np.array(y_train, np.uint8) #data, datatype"
      ],
      "execution_count": 0,
      "outputs": []
    },
    {
      "metadata": {
        "id": "vbwM44_2AEjr",
        "colab_type": "code",
        "colab": {}
      },
      "cell_type": "code",
      "source": [
        "labels.shape"
      ],
      "execution_count": 0,
      "outputs": []
    },
    {
      "metadata": {
        "id": "qo15j6qfAEj-",
        "colab_type": "code",
        "colab": {}
      },
      "cell_type": "code",
      "source": [
        "from keras.preprocessing import image\n",
        "from keras.applications.inception_resnet_v2 import preprocess_input, decode_predictions\n",
        "batch_size = 32\n",
        "train_imgs = breeds['id'].values\n",
        "\n",
        "def train_gen():\n",
        "  while True:\n",
        "    for i in range(0,len(train_imgs),batch_size):\n",
        "      if i+batch_size < len(train_imgs):\n",
        "        batch_imgs = train_imgs[i:i+batch_size]\n",
        "        y_batch = labels[i:i+batch_size]\n",
        "      else:\n",
        "        batch_imgs = train_imgs[i:]\n",
        "        y_batch = labels[i:]\n",
        "      x_batch = []\n",
        "      for img in batch_imgs:\n",
        "        Image = image.load_img(\"train/\" + img + \".jpg\", target_size=(299, 299))\n",
        "        data = image.img_to_array(Image)\n",
        "        data = preprocess_input(data)\n",
        "        x_batch.append(data)\n",
        "      yield((np.array(x_batch,np.float32),y_batch))"
      ],
      "execution_count": 0,
      "outputs": []
    },
    {
      "metadata": {
        "id": "Xv9bdOXoW7si",
        "colab_type": "code",
        "colab": {}
      },
      "cell_type": "code",
      "source": [
        "np.ceil(len(train_imgs)/batch_size)"
      ],
      "execution_count": 0,
      "outputs": []
    },
    {
      "metadata": {
        "id": "NCahEW0gJAJn",
        "colab_type": "code",
        "colab": {}
      },
      "cell_type": "code",
      "source": [
        "x_train = np.array(x_train, np.float32)"
      ],
      "execution_count": 0,
      "outputs": []
    },
    {
      "metadata": {
        "id": "DCxFowqjHNC3",
        "colab_type": "code",
        "colab": {}
      },
      "cell_type": "code",
      "source": [
        "del breeds\n",
        "del y_train"
      ],
      "execution_count": 0,
      "outputs": []
    },
    {
      "metadata": {
        "id": "mlu7ZgUlG2fT",
        "colab_type": "code",
        "colab": {}
      },
      "cell_type": "code",
      "source": [
        "print(labels.shape, x_train[0].shape)"
      ],
      "execution_count": 0,
      "outputs": []
    },
    {
      "metadata": {
        "id": "99bp6AciAEk5",
        "colab_type": "code",
        "colab": {}
      },
      "cell_type": "code",
      "source": [
        "xtrain, xvalid, ytrain, yvalid = train_test_split(x_train, labels, test_size=0.25, random_state=1)"
      ],
      "execution_count": 0,
      "outputs": []
    },
    {
      "metadata": {
        "id": "oAvhhlGbAElB",
        "colab_type": "code",
        "colab": {}
      },
      "cell_type": "code",
      "source": [
        "from keras import Model\n",
        "from keras.layers import Input, Dense\n",
        "from keras.applications.inception_resnet_v2 import InceptionResNetV2\n",
        "from keras.applications.resnet50 import ResNet50\n",
        "from keras.applications.vgg16 import VGG16\n",
        "\n",
        "backbone = InceptionResNetV2(weights='imagenet', include_top=False, pooling='avg', input_shape=(299,299,3))\n",
        "outputs = Dense(120, activation='softmax')(backbone.output)\n",
        "model = Model(inputs=backbone.input, outputs=outputs)\n",
        "model.summary()"
      ],
      "execution_count": 0,
      "outputs": []
    },
    {
      "metadata": {
        "id": "B9DKX-eIAElV",
        "colab_type": "code",
        "colab": {}
      },
      "cell_type": "code",
      "source": [
        "# initial_model = InceptionResNetV2(classes=120)\n",
        "# a = initial_model.output\n",
        "# predictions = Dense(120, activation='relu')(a)\n",
        "\n",
        "#model = Model(inputs=initial_model.input, outputs=predictions)\n",
        "\n",
        "model.compile(optimizer='adam', loss='categorical_crossentropy', metrics = [\"accuracy\"])"
      ],
      "execution_count": 0,
      "outputs": []
    },
    {
      "metadata": {
        "id": "6EzplGKpAElc",
        "colab_type": "code",
        "colab": {}
      },
      "cell_type": "code",
      "source": [
        "model.fit_generator(train_gen(), steps_per_epoch=np.ceil(len(train_imgs)/batch_size), epochs=10, verbose=1)"
      ],
      "execution_count": 0,
      "outputs": []
    },
    {
      "metadata": {
        "id": "-b7REtaFokpB",
        "colab_type": "code",
        "colab": {}
      },
      "cell_type": "code",
      "source": [
        "model.save('model.h5')"
      ],
      "execution_count": 0,
      "outputs": []
    },
    {
      "metadata": {
        "id": "B0dBxaR-I42O",
        "colab_type": "code",
        "colab": {}
      },
      "cell_type": "code",
      "source": [
        "model.save_weights('model-v1.h5')"
      ],
      "execution_count": 0,
      "outputs": []
    },
    {
      "metadata": {
        "id": "T9HU--G-pLGP",
        "colab_type": "code",
        "colab": {}
      },
      "cell_type": "code",
      "source": [
        "import pickle\n",
        "with open('encoder.pkl','wb') as f:\n",
        "  pickle.dump(encoder,f)"
      ],
      "execution_count": 0,
      "outputs": []
    },
    {
      "metadata": {
        "id": "8NkXVLmvAEls",
        "colab_type": "code",
        "colab": {}
      },
      "cell_type": "code",
      "source": [
        "from keras.applications import xception\n",
        "from sklearn.linear_model import LogisticRegression\n",
        "from sklearn.metrics import log_loss, accuracy_score"
      ],
      "execution_count": 0,
      "outputs": []
    },
    {
      "metadata": {
        "id": "8GhebU5SAEl1",
        "colab_type": "code",
        "colab": {}
      },
      "cell_type": "code",
      "source": [
        "X_train = []\n",
        "for f, x in breeds.values:\n",
        "    Image = image.load_img(\"train/\" + f + \".jpg\", target_size=(299, 299))\n",
        "    data = image.img_to_array(Image)\n",
        "    data = preprocess_input(data)\n",
        "    X_train.append(data)"
      ],
      "execution_count": 0,
      "outputs": []
    },
    {
      "metadata": {
        "id": "IFQGjHC9AEl-",
        "colab_type": "code",
        "colab": {}
      },
      "cell_type": "code",
      "source": [
        "xception_bottleneck = xception.Xception(weights='imagenet', include_top=False, input_shape=(224,224,3), pooling='max')"
      ],
      "execution_count": 0,
      "outputs": []
    },
    {
      "metadata": {
        "id": "hl4QurstAEmI",
        "colab_type": "code",
        "colab": {}
      },
      "cell_type": "code",
      "source": [
        "train_x_bf = xception_bottleneck.predict(xtrain, batch_size=32, verbose=1)\n",
        "valid_x_bf = xception_bottleneck.predict(xvalid, batch_size=32, verbose=1)"
      ],
      "execution_count": 0,
      "outputs": []
    },
    {
      "metadata": {
        "id": "hLpNbKiUAEmS",
        "colab_type": "code",
        "colab": {}
      },
      "cell_type": "code",
      "source": [
        "logreg = LogisticRegression(C=0.01, multi_class='multinomial', solver='saga', tol=0.1)\n",
        "logreg.fit(train_x_bf, valid_x_bf)"
      ],
      "execution_count": 0,
      "outputs": []
    },
    {
      "metadata": {
        "id": "WeV9nJMfAEmX",
        "colab_type": "code",
        "colab": {}
      },
      "cell_type": "code",
      "source": [
        "%%bash\n",
        "kaggle competitions download -c dog-breed-identification;\n",
        "unzip train.zip;\n",
        "unzip labels.csv.zip;"
      ],
      "execution_count": 0,
      "outputs": []
    },
    {
      "metadata": {
        "id": "hd1lUMJIBoQY",
        "colab_type": "code",
        "colab": {}
      },
      "cell_type": "code",
      "source": [
        "key = '{\"username\":\"zedian\",\"key\":\"8719ce6ef7cc5c8461b2a123ae54f334\"}'\n",
        "with open('/root/.kaggle/kaggle.json','w+') as f:\n",
        "  f.write(key)"
      ],
      "execution_count": 0,
      "outputs": []
    },
    {
      "metadata": {
        "id": "fhWwRGReD6Bt",
        "colab_type": "code",
        "colab": {}
      },
      "cell_type": "code",
      "source": [
        "for i in tqdm(range(1000000000)):\n",
        "  pass"
      ],
      "execution_count": 0,
      "outputs": []
    },
    {
      "metadata": {
        "id": "DUTy8ml6U0vI",
        "colab_type": "code",
        "colab": {}
      },
      "cell_type": "code",
      "source": [
        "from keras.preprocessing import image\n",
        "#from keras.applications.resnet50 import preprocess_input, decode_predictions\n",
        "batch_size = 4\n",
        "train_imgs = breeds['id'].values\n",
        "\n",
        "\n",
        "for i in range(2,10,2):\n",
        "  print(i)\n",
        "#   if i+batch_size < len(train_imgs):\n",
        "#     batch_imgs = train_imgs[i:i+batch_size]\n",
        "#   else:\n",
        "#     batch_imgs = train_imgs[i:]\n",
        "#   print(batch_imgs)\n",
        "#   x_batch = []\n",
        "#   for img in batch_imgs:\n",
        "#     Image = image.load_img(\"train/\" + img + \".jpg\", target_size=(224, 224))\n",
        "#     data = image.img_to_array(Image)\n",
        "#     x_batch.append(data/255)\n",
        "#   print((np.array(x_batch,np.float32),labels[i:i+batch_size]))"
      ],
      "execution_count": 0,
      "outputs": []
    },
    {
      "metadata": {
        "id": "Rl1hDTpuVEot",
        "colab_type": "code",
        "colab": {}
      },
      "cell_type": "code",
      "source": [
        "len(train_imgs"
      ],
      "execution_count": 0,
      "outputs": []
    },
    {
      "metadata": {
        "id": "XvGHCMLyGuot",
        "colab_type": "code",
        "colab": {}
      },
      "cell_type": "code",
      "source": [
        "gen = train_gen()\n",
        "x,y = next(gen)"
      ],
      "execution_count": 0,
      "outputs": []
    },
    {
      "metadata": {
        "id": "3AP8zd5NGy1x",
        "colab_type": "code",
        "colab": {}
      },
      "cell_type": "code",
      "source": [
        "!nvidia-smi"
      ],
      "execution_count": 0,
      "outputs": []
    },
    {
      "metadata": {
        "id": "X5kQG-V1fqM0",
        "colab_type": "code",
        "colab": {}
      },
      "cell_type": "code",
      "source": [
        ""
      ],
      "execution_count": 0,
      "outputs": []
    }
  ]
}